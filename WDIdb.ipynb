{
 "cells": [
  {
   "cell_type": "markdown",
   "metadata": {},
   "source": [
    "Creating WDIdb"
   ]
  },
  {
   "cell_type": "code",
   "execution_count": 1,
   "metadata": {},
   "outputs": [],
   "source": [
    "import sqlite3\n",
    "import numpy as np\n",
    "import pandas as pd\n",
    "import matplotlib.pyplot as plt\n",
    "import io\n",
    "import pprint"
   ]
  },
  {
   "cell_type": "code",
   "execution_count": 2,
   "metadata": {},
   "outputs": [],
   "source": [
    "df = pd.read_excel('/home/lolo/WDI_excel/WDIEXCEL.xlsx', sheet_name='Data')"
   ]
  },
  {
   "cell_type": "code",
   "execution_count": 3,
   "metadata": {},
   "outputs": [
    {
     "name": "stdout",
     "output_type": "stream",
     "text": [
      "GDP (constant 2010 US$);GDP (constant LCU);GDP (current LCU);GDP (current US$);GDP deflator (base year varies by country);GDP deflator: linked series (base year varies by country);GDP growth (annual %);GDP per capita (constant 2010 US$);GDP per capita (constant LCU);GDP per capita (current LCU);GDP per capita (current US$);GDP per capita growth (annual %);GDP per capita, PPP (constant 2017 international $);GDP per capita, PPP (current international $);GDP per person employed (constant 2017 PPP $);GDP per unit of energy use (constant 2017 PPP $ per kg of oil equivalent);GDP per unit of energy use (PPP $ per kg of oil equivalent);GDP, PPP (constant 2017 international $);GDP, PPP (current international $);GDP: linked series (current LCU);GNI (constant 2010 US$);GNI (constant LCU);GNI (current LCU);GNI (current US$);GNI growth (annual %);GNI per capita (constant 2010 US$);GNI per capita (constant LCU);GNI per capita (current LCU);GNI per capita growth (annual %);GNI per capita, Atlas method (current US$);GNI per capita, PPP (constant 2017 international $);GNI per capita, PPP (current international $);GNI, Atlas method (current US$);GNI, PPP (constant 2017 international $);GNI, PPP (current international $);GNI: linked series (current LCU)\n",
      "36 36\n"
     ]
    }
   ],
   "source": [
    "INDS = np.append(df['Indicator Name'][464+0:464+20], df['Indicator Name'][492+0:492+16])\n",
    "INDs = ''\n",
    "for i in range(len(INDS)):\n",
    "    if i > 0:\n",
    "       INDs = INDs + ';' + INDS[i]\n",
    "    else:\n",
    "        INDs = INDs + INDS[i]\n",
    "print(INDs)\n",
    "print(len(INDS), len(INDs.split(';')))"
   ]
  },
  {
   "cell_type": "code",
   "execution_count": 4,
   "metadata": {},
   "outputs": [],
   "source": [
    "CNS = df['Country Name']\n",
    "CNs = [] \n",
    "for i in CNS: \n",
    "    if i.lower() not in CNs: \n",
    "        CNs.append(i.lower())"
   ]
  },
  {
   "cell_type": "code",
   "execution_count": 5,
   "metadata": {},
   "outputs": [
    {
     "name": "stdout",
     "output_type": "stream",
     "text": [
      "1960;1961;1962;1963;1964;1965;1966;1967;1968;1969;1970;1971;1972;1973;1974;1975;1976;1977;1978;1979;1980;1981;1982;1983;1984;1985;1986;1987;1988;1989;1990;1991;1992;1993;1994;1995;1996;1997;1998;1999;2000;2001;2002;2003;2004;2005;2006;2007;2008;2009;2010;2011;2012;2013;2014;2015;2016;2017;2018;2019\n"
     ]
    }
   ],
   "source": [
    "yrs = ['1960', '1961', '1962', '1963', '1964', '1965', '1966', '1967', '1968',\n",
    "       '1969', '1970', '1971', '1972', '1973', '1974', '1975', '1976', '1977',\n",
    "       '1978', '1979', '1980', '1981', '1982', '1983', '1984', '1985', '1986',\n",
    "       '1987', '1988', '1989', '1990', '1991', '1992', '1993', '1994', '1995',\n",
    "       '1996', '1997', '1998', '1999', '2000', '2001', '2002', '2003', '2004',\n",
    "       '2005', '2006', '2007', '2008', '2009', '2010', '2011', '2012', '2013',\n",
    "       '2014', '2015', '2016', '2017', '2018', '2019']\n",
    "YRs = ''\n",
    "for i in range(len(yrs)):\n",
    "    if i > 0:\n",
    "       YRs = YRs + ';' + yrs[i]\n",
    "    else:\n",
    "        YRs = YRs + yrs[i]\n",
    "print(YRs)   "
   ]
  },
  {
   "cell_type": "code",
   "execution_count": 6,
   "metadata": {},
   "outputs": [],
   "source": [
    "l = 0\n",
    "rg = CNs[l:]\n",
    "l1 = 20\n",
    "l2 = 16\n",
    "DATA = np.zeros((len(rg), l1+l2, len(yrs))) \n",
    "for i in range(l, len(CNs)):\n",
    "    for all in range(l1):\n",
    "        jj = 0\n",
    "        for j in yrs:\n",
    "            if ~np.isnan(df[j][1431*i+464+all]):\n",
    "                DATA[i-l,all,jj] = df[j][1431*i+464+all]\n",
    "            jj += 1    \n",
    "    for all in range(l2):\n",
    "        jj = 0\n",
    "        for j in yrs:  \n",
    "            if ~np.isnan(df[j][1431*i+492+all]):\n",
    "                DATA[i-l,all+l1,jj] = df[j][1431*i+492+all]\n",
    "            jj += 1    "
   ]
  },
  {
   "cell_type": "code",
   "execution_count": 7,
   "metadata": {},
   "outputs": [],
   "source": [
    "def adapt_array(arr):\n",
    "    out = io.BytesIO()\n",
    "    np.save(out, arr)\n",
    "    out.seek(0)\n",
    "    return sqlite3.Binary(out.read())\n",
    "\n",
    "def convert_array(text):\n",
    "    out = io.BytesIO(text)\n",
    "    out.seek(0)\n",
    "    return np.load(out)\n",
    "\n",
    "sqlite3.register_adapter(np.ndarray, adapt_array)\n",
    "sqlite3.register_converter('array', convert_array)"
   ]
  },
  {
   "cell_type": "code",
   "execution_count": 8,
   "metadata": {},
   "outputs": [],
   "source": [
    "conn = sqlite3.connect('WDIdb.sqlite', detect_types=sqlite3.PARSE_DECLTYPES)\n",
    "cur = conn.cursor() "
   ]
  },
  {
   "cell_type": "code",
   "execution_count": 9,
   "metadata": {},
   "outputs": [],
   "source": [
    "sql_command =\"\"\"\n",
    "DROP TABLE IF EXISTS measurements;\n",
    "CREATE TABLE WDI (\n",
    "    id INTEGER PRIMARY KEY,\n",
    "    name VARCHAR,\n",
    "    years VARCHAR,    \n",
    "    indicators VARCHAR,\n",
    "    arr array);\n",
    "\"\"\"\n",
    "cur.executescript(sql_command)\n",
    "conn.commit()"
   ]
  },
  {
   "cell_type": "code",
   "execution_count": 10,
   "metadata": {},
   "outputs": [],
   "source": [
    "for i in range(len(rg)):\n",
    "    cur.execute('INSERT INTO WDI (name, years, indicators, arr) values (\"' + CNs[i] + '\", \"' + YRs + '\", \"' + INDs + '\", ?)', (DATA[i],))\n",
    "    conn.commit()"
   ]
  },
  {
   "cell_type": "code",
   "execution_count": 11,
   "metadata": {},
   "outputs": [
    {
     "name": "stdout",
     "output_type": "stream",
     "text": [
      "(175,\n",
      " 'mexico',\n",
      " '1960;1961;1962;1963;1964;1965;1966;1967;1968;1969;1970;1971;1972;1973;1974;1975;1976;1977;1978;1979;1980;1981;1982;1983;1984;1985;1986;1987;1988;1989;1990;1991;1992;1993;1994;1995;1996;1997;1998;1999;2000;2001;2002;2003;2004;2005;2006;2007;2008;2009;2010;2011;2012;2013;2014;2015;2016;2017;2018;2019',\n",
      " 'GDP (constant 2010 US$);GDP (constant LCU);GDP (current LCU);GDP (current '\n",
      " 'US$);GDP deflator (base year varies by country);GDP deflator: linked series '\n",
      " '(base year varies by country);GDP growth (annual %);GDP per capita (constant '\n",
      " '2010 US$);GDP per capita (constant LCU);GDP per capita (current LCU);GDP per '\n",
      " 'capita (current US$);GDP per capita growth (annual %);GDP per capita, PPP '\n",
      " '(constant 2017 international $);GDP per capita, PPP (current international '\n",
      " '$);GDP per person employed (constant 2017 PPP $);GDP per unit of energy use '\n",
      " '(constant 2017 PPP $ per kg of oil equivalent);GDP per unit of energy use '\n",
      " '(PPP $ per kg of oil equivalent);GDP, PPP (constant 2017 international '\n",
      " '$);GDP, PPP (current international $);GDP: linked series (current LCU);GNI '\n",
      " '(constant 2010 US$);GNI (constant LCU);GNI (current LCU);GNI (current '\n",
      " 'US$);GNI growth (annual %);GNI per capita (constant 2010 US$);GNI per capita '\n",
      " '(constant LCU);GNI per capita (current LCU);GNI per capita growth (annual '\n",
      " '%);GNI per capita, Atlas method (current US$);GNI per capita, PPP (constant '\n",
      " '2017 international $);GNI per capita, PPP (current international $);GNI, '\n",
      " 'Atlas method (current US$);GNI, PPP (constant 2017 international $);GNI, PPP '\n",
      " '(current international $);GNI: linked series (current LCU)',\n",
      " array([[1.47593305e+11, 1.54972970e+11, 1.62201552e+11, ...,\n",
      "        1.28537587e+12, 1.31283096e+12, 1.31091945e+12],\n",
      "       [2.08564163e+12, 2.18992371e+12, 2.29207084e+12, ...,\n",
      "        1.81636520e+13, 1.85516200e+13, 1.85246084e+13],\n",
      "       [1.63000000e+08, 1.77000000e+08, 1.90000000e+08, ...,\n",
      "        2.19118940e+13, 2.34915070e+13, 2.42391320e+13],\n",
      "       ...,\n",
      "       [0.00000000e+00, 0.00000000e+00, 0.00000000e+00, ...,\n",
      "        2.40822810e+12, 2.45773576e+12, 2.44432668e+12],\n",
      "       [0.00000000e+00, 0.00000000e+00, 0.00000000e+00, ...,\n",
      "        2.40822810e+12, 2.50777331e+12, 2.52697650e+12],\n",
      "       [0.00000000e+00, 0.00000000e+00, 0.00000000e+00, ...,\n",
      "        2.13632494e+13, 2.28884470e+13, 2.35230077e+13]]))\n"
     ]
    }
   ],
   "source": [
    "cur.execute('SELECT * FROM WDI WHERE name=\"mexico\"')\n",
    "data = cur.fetchone()\n",
    "pprint.pprint(data)\n",
    "#plt.imshow(data[4])"
   ]
  }
 ],
 "metadata": {
  "kernelspec": {
   "display_name": "Python 3",
   "language": "python",
   "name": "python3"
  },
  "language_info": {
   "codemirror_mode": {
    "name": "ipython",
    "version": 3
   },
   "file_extension": ".py",
   "mimetype": "text/x-python",
   "name": "python",
   "nbconvert_exporter": "python",
   "pygments_lexer": "ipython3",
   "version": "3.8.5"
  }
 },
 "nbformat": 4,
 "nbformat_minor": 4
}
